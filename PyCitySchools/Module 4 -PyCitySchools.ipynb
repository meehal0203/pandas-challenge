{
 "cells": [
  {
   "cell_type": "markdown",
   "id": "0d3d9fb5",
   "metadata": {},
   "source": [
    "# PyCitySchools\n",
    "\n",
    "- You are the new Chief Data Scientist for your city's school district.\n",
    "In this capacity, you'll be helping the school board and mayor make strategic \n",
    "decisions regarding future school budgets and priorities.\n",
    "\n",
    "- As a first task, you've been asked to analyze the district-wide standardized \n",
    "test results. You'll be given access to every student's math and reading scores,\n",
    "as well as various information on the schools they attend. Your task is to \n",
    "aggregate the data to showcase obvious trends in school performance.\n",
    "\n"
   ]
  },
  {
   "cell_type": "markdown",
   "id": "4b2462b2",
   "metadata": {},
   "source": [
    "# Main PyCitySchools Analysis\n",
    "\n",
    "There are quite a few striking results gleaned from the data, in particular the fact that the amount spent per capita\n",
    "on education does not actually lead to an increase in the overall passing grades for students in Math and English\n",
    "In fact, schools spending less than $585 per student had significantly higher test scores thank those schools spending\n",
    "more.\n",
    "\n",
    "It is also obvious that smaller and medium size school students have a higher passing rates than students in schools of \n",
    " more than 2000 pupils. Lastly, charter schools vastly outperform district schools in all areas, sometimes by up to 25% higher \n",
    " grades although all of the district schools were considered large (had at least 2000 pupils). Wilson High School (a large school)\n",
    " still managed an overall passing rate of 95% while having a student body of almost 2300 children."
   ]
  },
  {
   "cell_type": "code",
   "execution_count": 33,
   "id": "36a9d0ad",
   "metadata": {},
   "outputs": [],
   "source": [
    "# Dependencies and Setup\n",
    "import pandas as pd\n",
    "from pathlib import Path\n",
    "\n"
   ]
  },
  {
   "cell_type": "code",
   "execution_count": 34,
   "id": "5dcfd008",
   "metadata": {},
   "outputs": [],
   "source": [
    "\n",
    "# File to Load \n",
    "school_data_csv = Path(\"schools_complete.csv\")\n",
    "student_data_csv = Path(\"students_complete.csv\")\n",
    "\n",
    "# Read School and Student Data File and store into Pandas DataFrames\n",
    "school_data_df = pd.read_csv(school_data_csv)\n",
    "student_data_df = pd.read_csv(student_data_csv)\n",
    "\n",
    "\n",
    "\n",
    "\n"
   ]
  },
  {
   "cell_type": "code",
   "execution_count": 35,
   "id": "0c792cbd",
   "metadata": {},
   "outputs": [
    {
     "data": {
      "text/html": [
       "<div>\n",
       "<style scoped>\n",
       "    .dataframe tbody tr th:only-of-type {\n",
       "        vertical-align: middle;\n",
       "    }\n",
       "\n",
       "    .dataframe tbody tr th {\n",
       "        vertical-align: top;\n",
       "    }\n",
       "\n",
       "    .dataframe thead th {\n",
       "        text-align: right;\n",
       "    }\n",
       "</style>\n",
       "<table border=\"1\" class=\"dataframe\">\n",
       "  <thead>\n",
       "    <tr style=\"text-align: right;\">\n",
       "      <th></th>\n",
       "      <th>School ID</th>\n",
       "      <th>school_name</th>\n",
       "      <th>type</th>\n",
       "      <th>size</th>\n",
       "      <th>budget</th>\n",
       "      <th>Student ID</th>\n",
       "      <th>student_name</th>\n",
       "      <th>gender</th>\n",
       "      <th>grade</th>\n",
       "      <th>reading_score</th>\n",
       "      <th>math_score</th>\n",
       "    </tr>\n",
       "  </thead>\n",
       "  <tbody>\n",
       "    <tr>\n",
       "      <th>0</th>\n",
       "      <td>0</td>\n",
       "      <td>Huang High School</td>\n",
       "      <td>District</td>\n",
       "      <td>2917</td>\n",
       "      <td>1910635</td>\n",
       "      <td>0</td>\n",
       "      <td>Paul Bradley</td>\n",
       "      <td>M</td>\n",
       "      <td>9th</td>\n",
       "      <td>66</td>\n",
       "      <td>79</td>\n",
       "    </tr>\n",
       "    <tr>\n",
       "      <th>1</th>\n",
       "      <td>0</td>\n",
       "      <td>Huang High School</td>\n",
       "      <td>District</td>\n",
       "      <td>2917</td>\n",
       "      <td>1910635</td>\n",
       "      <td>1</td>\n",
       "      <td>Victor Smith</td>\n",
       "      <td>M</td>\n",
       "      <td>12th</td>\n",
       "      <td>94</td>\n",
       "      <td>61</td>\n",
       "    </tr>\n",
       "    <tr>\n",
       "      <th>2</th>\n",
       "      <td>0</td>\n",
       "      <td>Huang High School</td>\n",
       "      <td>District</td>\n",
       "      <td>2917</td>\n",
       "      <td>1910635</td>\n",
       "      <td>2</td>\n",
       "      <td>Kevin Rodriguez</td>\n",
       "      <td>M</td>\n",
       "      <td>12th</td>\n",
       "      <td>90</td>\n",
       "      <td>60</td>\n",
       "    </tr>\n",
       "    <tr>\n",
       "      <th>3</th>\n",
       "      <td>0</td>\n",
       "      <td>Huang High School</td>\n",
       "      <td>District</td>\n",
       "      <td>2917</td>\n",
       "      <td>1910635</td>\n",
       "      <td>3</td>\n",
       "      <td>Dr. Richard Scott</td>\n",
       "      <td>M</td>\n",
       "      <td>12th</td>\n",
       "      <td>67</td>\n",
       "      <td>58</td>\n",
       "    </tr>\n",
       "    <tr>\n",
       "      <th>4</th>\n",
       "      <td>0</td>\n",
       "      <td>Huang High School</td>\n",
       "      <td>District</td>\n",
       "      <td>2917</td>\n",
       "      <td>1910635</td>\n",
       "      <td>4</td>\n",
       "      <td>Bonnie Ray</td>\n",
       "      <td>F</td>\n",
       "      <td>9th</td>\n",
       "      <td>97</td>\n",
       "      <td>84</td>\n",
       "    </tr>\n",
       "    <tr>\n",
       "      <th>...</th>\n",
       "      <td>...</td>\n",
       "      <td>...</td>\n",
       "      <td>...</td>\n",
       "      <td>...</td>\n",
       "      <td>...</td>\n",
       "      <td>...</td>\n",
       "      <td>...</td>\n",
       "      <td>...</td>\n",
       "      <td>...</td>\n",
       "      <td>...</td>\n",
       "      <td>...</td>\n",
       "    </tr>\n",
       "    <tr>\n",
       "      <th>39165</th>\n",
       "      <td>14</td>\n",
       "      <td>Thomas High School</td>\n",
       "      <td>Charter</td>\n",
       "      <td>1635</td>\n",
       "      <td>1043130</td>\n",
       "      <td>39165</td>\n",
       "      <td>Donna Howard</td>\n",
       "      <td>F</td>\n",
       "      <td>12th</td>\n",
       "      <td>99</td>\n",
       "      <td>90</td>\n",
       "    </tr>\n",
       "    <tr>\n",
       "      <th>39166</th>\n",
       "      <td>14</td>\n",
       "      <td>Thomas High School</td>\n",
       "      <td>Charter</td>\n",
       "      <td>1635</td>\n",
       "      <td>1043130</td>\n",
       "      <td>39166</td>\n",
       "      <td>Dawn Bell</td>\n",
       "      <td>F</td>\n",
       "      <td>10th</td>\n",
       "      <td>95</td>\n",
       "      <td>70</td>\n",
       "    </tr>\n",
       "    <tr>\n",
       "      <th>39167</th>\n",
       "      <td>14</td>\n",
       "      <td>Thomas High School</td>\n",
       "      <td>Charter</td>\n",
       "      <td>1635</td>\n",
       "      <td>1043130</td>\n",
       "      <td>39167</td>\n",
       "      <td>Rebecca Tanner</td>\n",
       "      <td>F</td>\n",
       "      <td>9th</td>\n",
       "      <td>73</td>\n",
       "      <td>84</td>\n",
       "    </tr>\n",
       "    <tr>\n",
       "      <th>39168</th>\n",
       "      <td>14</td>\n",
       "      <td>Thomas High School</td>\n",
       "      <td>Charter</td>\n",
       "      <td>1635</td>\n",
       "      <td>1043130</td>\n",
       "      <td>39168</td>\n",
       "      <td>Desiree Kidd</td>\n",
       "      <td>F</td>\n",
       "      <td>10th</td>\n",
       "      <td>99</td>\n",
       "      <td>90</td>\n",
       "    </tr>\n",
       "    <tr>\n",
       "      <th>39169</th>\n",
       "      <td>14</td>\n",
       "      <td>Thomas High School</td>\n",
       "      <td>Charter</td>\n",
       "      <td>1635</td>\n",
       "      <td>1043130</td>\n",
       "      <td>39169</td>\n",
       "      <td>Carolyn Jackson</td>\n",
       "      <td>F</td>\n",
       "      <td>11th</td>\n",
       "      <td>95</td>\n",
       "      <td>75</td>\n",
       "    </tr>\n",
       "  </tbody>\n",
       "</table>\n",
       "<p>39170 rows × 11 columns</p>\n",
       "</div>"
      ],
      "text/plain": [
       "       School ID         school_name      type  size   budget  Student ID  \\\n",
       "0              0   Huang High School  District  2917  1910635           0   \n",
       "1              0   Huang High School  District  2917  1910635           1   \n",
       "2              0   Huang High School  District  2917  1910635           2   \n",
       "3              0   Huang High School  District  2917  1910635           3   \n",
       "4              0   Huang High School  District  2917  1910635           4   \n",
       "...          ...                 ...       ...   ...      ...         ...   \n",
       "39165         14  Thomas High School   Charter  1635  1043130       39165   \n",
       "39166         14  Thomas High School   Charter  1635  1043130       39166   \n",
       "39167         14  Thomas High School   Charter  1635  1043130       39167   \n",
       "39168         14  Thomas High School   Charter  1635  1043130       39168   \n",
       "39169         14  Thomas High School   Charter  1635  1043130       39169   \n",
       "\n",
       "            student_name gender grade  reading_score  math_score  \n",
       "0           Paul Bradley      M   9th             66          79  \n",
       "1           Victor Smith      M  12th             94          61  \n",
       "2        Kevin Rodriguez      M  12th             90          60  \n",
       "3      Dr. Richard Scott      M  12th             67          58  \n",
       "4             Bonnie Ray      F   9th             97          84  \n",
       "...                  ...    ...   ...            ...         ...  \n",
       "39165       Donna Howard      F  12th             99          90  \n",
       "39166          Dawn Bell      F  10th             95          70  \n",
       "39167     Rebecca Tanner      F   9th             73          84  \n",
       "39168       Desiree Kidd      F  10th             99          90  \n",
       "39169    Carolyn Jackson      F  11th             95          75  \n",
       "\n",
       "[39170 rows x 11 columns]"
      ]
     },
     "execution_count": 35,
     "metadata": {},
     "output_type": "execute_result"
    }
   ],
   "source": [
    "# merge the school and student data\n",
    "school_data_complete = pd.merge(school_data_df, student_data_df, on=\"school_name\", how=\"left\")\n",
    "\n",
    "school_data_complete\n"
   ]
  },
  {
   "cell_type": "markdown",
   "id": "1462528b",
   "metadata": {},
   "source": [
    "# District Summary"
   ]
  },
  {
   "cell_type": "markdown",
   "id": "64a0d40b",
   "metadata": {},
   "source": [
    "### Perform the necessary calculations and then create a high-level snapshot of the district's key metrics in a DataFrame.\n",
    "\n",
    "### Include the following:\n",
    "\n",
    "* Total number of unique schools\n",
    "\n",
    "* Total students\n",
    "\n",
    "* Total budget\n",
    "\n",
    "* Average math score\n",
    "\n",
    "* Average reading score\n",
    "\n",
    "* percent passing math (the percentage of students who passed math)\n",
    "\n",
    "* percent passing reading (the percentage of students who passed reading)\n",
    "\n",
    "* percent overall passing (the percentage of students who passed math AND reading)\n",
    "\n"
   ]
  },
  {
   "cell_type": "code",
   "execution_count": 36,
   "id": "827b0c73",
   "metadata": {},
   "outputs": [
    {
     "data": {
      "text/plain": [
       "15"
      ]
     },
     "execution_count": 36,
     "metadata": {},
     "output_type": "execute_result"
    }
   ],
   "source": [
    "# calculate the total number of unique schools\n",
    "school_count = school_data_df[\"school_name\"].count()\n",
    "school_count\n",
    "\n",
    "\n"
   ]
  },
  {
   "cell_type": "code",
   "execution_count": 37,
   "id": "d1afd831",
   "metadata": {},
   "outputs": [
    {
     "data": {
      "text/plain": [
       "39170"
      ]
     },
     "execution_count": 37,
     "metadata": {},
     "output_type": "execute_result"
    }
   ],
   "source": [
    "# calculate the total number of students\n",
    "student_count = student_data_df[\"student_name\"].count()\n",
    "student_count\n"
   ]
  },
  {
   "cell_type": "code",
   "execution_count": 38,
   "id": "badc6165",
   "metadata": {},
   "outputs": [
    {
     "data": {
      "text/plain": [
       "24649428"
      ]
     },
     "execution_count": 38,
     "metadata": {},
     "output_type": "execute_result"
    }
   ],
   "source": [
    "# calculate the total budget\n",
    "total_budget = school_data_df[\"budget\"].sum()\n",
    "total_budget"
   ]
  },
  {
   "cell_type": "code",
   "execution_count": 39,
   "id": "a73c2a1e",
   "metadata": {},
   "outputs": [
    {
     "data": {
      "text/plain": [
       "78.98537145774827"
      ]
     },
     "execution_count": 39,
     "metadata": {},
     "output_type": "execute_result"
    }
   ],
   "source": [
    "# calculate the average math score\n",
    "average_math_score = school_data_complete[\"math_score\"].mean()\n",
    "average_math_score"
   ]
  },
  {
   "cell_type": "code",
   "execution_count": 40,
   "id": "191cd808",
   "metadata": {},
   "outputs": [
    {
     "data": {
      "text/plain": [
       "81.87784018381414"
      ]
     },
     "execution_count": 40,
     "metadata": {},
     "output_type": "execute_result"
    }
   ],
   "source": [
    "# calculate the average reading score\n",
    "average_reading_score = school_data_complete[\"reading_score\"].mean()\n",
    "average_reading_score"
   ]
  },
  {
   "cell_type": "code",
   "execution_count": 41,
   "id": "17c4881e",
   "metadata": {},
   "outputs": [
    {
     "data": {
      "text/plain": [
       "74.9808526933878"
      ]
     },
     "execution_count": 41,
     "metadata": {},
     "output_type": "execute_result"
    }
   ],
   "source": [
    "# student % who passed math\n",
    "passing_math_count = school_data_complete[(school_data_complete[\"math_score\"]>=70)].count()[\"student_name\"]\n",
    "passing_math_percentage = passing_math_count / float(student_count) * 100\n",
    "passing_math_percentage"
   ]
  },
  {
   "cell_type": "code",
   "execution_count": 42,
   "id": "fb7120d5",
   "metadata": {},
   "outputs": [
    {
     "data": {
      "text/plain": [
       "85.80546336482001"
      ]
     },
     "execution_count": 42,
     "metadata": {},
     "output_type": "execute_result"
    }
   ],
   "source": [
    "# student % who passed reading\n",
    "passing_reading_count = school_data_complete[(school_data_complete[\"reading_score\"]>=70)].count()[\"student_name\"]\n",
    "passing_reading_percentage = passing_reading_count / float(student_count) * 100\n",
    "passing_reading_percentage"
   ]
  },
  {
   "cell_type": "code",
   "execution_count": 43,
   "id": "e4bd933a",
   "metadata": {},
   "outputs": [
    {
     "data": {
      "text/plain": [
       "65.17232575950983"
      ]
     },
     "execution_count": 43,
     "metadata": {},
     "output_type": "execute_result"
    }
   ],
   "source": [
    "# calculate % who passed math and reading\n",
    "passing_math_reading_count = student_data_df[\n",
    "    (school_data_complete[\"math_score\"] >= 70) & (school_data_complete[\"reading_score\"] >= 70)\n",
    "].count()[\"student_name\"]\n",
    "overall_passing_rate = passing_math_reading_count /  float(student_count) * 100\n",
    "overall_passing_rate"
   ]
  },
  {
   "cell_type": "code",
   "execution_count": 44,
   "id": "339084da",
   "metadata": {},
   "outputs": [
    {
     "data": {
      "text/html": [
       "<div>\n",
       "<style scoped>\n",
       "    .dataframe tbody tr th:only-of-type {\n",
       "        vertical-align: middle;\n",
       "    }\n",
       "\n",
       "    .dataframe tbody tr th {\n",
       "        vertical-align: top;\n",
       "    }\n",
       "\n",
       "    .dataframe thead th {\n",
       "        text-align: right;\n",
       "    }\n",
       "</style>\n",
       "<table border=\"1\" class=\"dataframe\">\n",
       "  <thead>\n",
       "    <tr style=\"text-align: right;\">\n",
       "      <th></th>\n",
       "      <th>Total Schools</th>\n",
       "      <th>Total Students</th>\n",
       "      <th>Total Budget</th>\n",
       "      <th>Average Math Score</th>\n",
       "      <th>Average Reading Score,</th>\n",
       "      <th>Percent Passing Math</th>\n",
       "      <th>Percent Passing Reading</th>\n",
       "      <th>Overall Percent Passing</th>\n",
       "    </tr>\n",
       "  </thead>\n",
       "  <tbody>\n",
       "    <tr>\n",
       "      <th>0</th>\n",
       "      <td>15</td>\n",
       "      <td>39170</td>\n",
       "      <td>$24,649,428.00</td>\n",
       "      <td>78.985371</td>\n",
       "      <td>81.87784</td>\n",
       "      <td>74.980853</td>\n",
       "      <td>85.805463</td>\n",
       "      <td>65.172326</td>\n",
       "    </tr>\n",
       "  </tbody>\n",
       "</table>\n",
       "</div>"
      ],
      "text/plain": [
       "   Total Schools  Total Students    Total Budget  Average Math Score  \\\n",
       "0             15           39170  $24,649,428.00           78.985371   \n",
       "\n",
       "   Average Reading Score,  Percent Passing Math  Percent Passing Reading  \\\n",
       "0                81.87784             74.980853                85.805463   \n",
       "\n",
       "   Overall Percent Passing  \n",
       "0                65.172326  "
      ]
     },
     "execution_count": 44,
     "metadata": {},
     "output_type": "execute_result"
    }
   ],
   "source": [
    "#  create a DataFrame that summarizes key metrics about each school.\n",
    "district_summary = pd.DataFrame({\"Total Schools\": school_count,\n",
    "                                 \"Total Students\": student_count, \n",
    "                                 \"Total Budget\": total_budget,\n",
    "                                \"Average Math Score\": average_math_score,\n",
    "                                 \"Average Reading Score,\": average_reading_score, \n",
    "                                \"Percent Passing Math\": passing_math_percentage,\n",
    "                                 \"Percent Passing Reading\": passing_reading_percentage,\n",
    "                                 \"Overall Percent Passing\": overall_passing_rate}, index =[0])\n",
    "district_summary[\"Total Budget\"] = district_summary[\"Total Budget\"].map(\"${:,.2f}\".format)\n",
    "district_summary\n"
   ]
  },
  {
   "cell_type": "code",
   "execution_count": 47,
   "id": "c7eb1b06",
   "metadata": {},
   "outputs": [
    {
     "ename": "SyntaxError",
     "evalue": "invalid syntax (2845140497.py, line 10)",
     "output_type": "error",
     "traceback": [
      "\u001b[0;36m  Cell \u001b[0;32mIn[47], line 10\u001b[0;36m\u001b[0m\n\u001b[0;31m    * Total students\u001b[0m\n\u001b[0m            ^\u001b[0m\n\u001b[0;31mSyntaxError\u001b[0m\u001b[0;31m:\u001b[0m invalid syntax\n"
     ]
    }
   ],
   "source": [
    "# School Summary\n",
    "## Perform the necessary calculations and then create a DataFrame that summarizes key metrics about each school.\n",
    "\n",
    "## Include the following:\n",
    "\n",
    "* School Name\n",
    "\n",
    "* School Type\n",
    "\n",
    "* Total students\n",
    "\n",
    "* Total school budget\n",
    "\n",
    "* Per student budget\n",
    "\n",
    "* Average math score\n",
    "\n",
    "* Average reading score\n",
    "\n",
    "* percentage passing math (the percentage of students who passed math)\n",
    "\n",
    "* percentage passing reading (the percentage of students who passed reading)\n",
    "\n",
    "* percentage overall passing (the percentage of students who passed math AND reading)\n",
    "\n",
    "\n"
   ]
  },
  {
   "cell_type": "code",
   "execution_count": 32,
   "id": "868d86a7",
   "metadata": {},
   "outputs": [
    {
     "data": {
      "text/html": [
       "<div>\n",
       "<style scoped>\n",
       "    .dataframe tbody tr th:only-of-type {\n",
       "        vertical-align: middle;\n",
       "    }\n",
       "\n",
       "    .dataframe tbody tr th {\n",
       "        vertical-align: top;\n",
       "    }\n",
       "\n",
       "    .dataframe thead th {\n",
       "        text-align: right;\n",
       "    }\n",
       "</style>\n",
       "<table border=\"1\" class=\"dataframe\">\n",
       "  <thead>\n",
       "    <tr style=\"text-align: right;\">\n",
       "      <th></th>\n",
       "      <th>School ID</th>\n",
       "      <th>school_name</th>\n",
       "      <th>type</th>\n",
       "      <th>size</th>\n",
       "      <th>budget</th>\n",
       "      <th>Student ID</th>\n",
       "      <th>student_name</th>\n",
       "      <th>gender</th>\n",
       "      <th>grade</th>\n",
       "      <th>reading_score</th>\n",
       "      <th>math_score</th>\n",
       "    </tr>\n",
       "  </thead>\n",
       "  <tbody>\n",
       "    <tr>\n",
       "      <th>0</th>\n",
       "      <td>0</td>\n",
       "      <td>Huang High School</td>\n",
       "      <td>District</td>\n",
       "      <td>2917</td>\n",
       "      <td>1910635</td>\n",
       "      <td>0</td>\n",
       "      <td>Paul Bradley</td>\n",
       "      <td>M</td>\n",
       "      <td>9th</td>\n",
       "      <td>66</td>\n",
       "      <td>79</td>\n",
       "    </tr>\n",
       "    <tr>\n",
       "      <th>1</th>\n",
       "      <td>0</td>\n",
       "      <td>Huang High School</td>\n",
       "      <td>District</td>\n",
       "      <td>2917</td>\n",
       "      <td>1910635</td>\n",
       "      <td>1</td>\n",
       "      <td>Victor Smith</td>\n",
       "      <td>M</td>\n",
       "      <td>12th</td>\n",
       "      <td>94</td>\n",
       "      <td>61</td>\n",
       "    </tr>\n",
       "    <tr>\n",
       "      <th>2</th>\n",
       "      <td>0</td>\n",
       "      <td>Huang High School</td>\n",
       "      <td>District</td>\n",
       "      <td>2917</td>\n",
       "      <td>1910635</td>\n",
       "      <td>2</td>\n",
       "      <td>Kevin Rodriguez</td>\n",
       "      <td>M</td>\n",
       "      <td>12th</td>\n",
       "      <td>90</td>\n",
       "      <td>60</td>\n",
       "    </tr>\n",
       "    <tr>\n",
       "      <th>3</th>\n",
       "      <td>0</td>\n",
       "      <td>Huang High School</td>\n",
       "      <td>District</td>\n",
       "      <td>2917</td>\n",
       "      <td>1910635</td>\n",
       "      <td>3</td>\n",
       "      <td>Dr. Richard Scott</td>\n",
       "      <td>M</td>\n",
       "      <td>12th</td>\n",
       "      <td>67</td>\n",
       "      <td>58</td>\n",
       "    </tr>\n",
       "    <tr>\n",
       "      <th>4</th>\n",
       "      <td>0</td>\n",
       "      <td>Huang High School</td>\n",
       "      <td>District</td>\n",
       "      <td>2917</td>\n",
       "      <td>1910635</td>\n",
       "      <td>4</td>\n",
       "      <td>Bonnie Ray</td>\n",
       "      <td>F</td>\n",
       "      <td>9th</td>\n",
       "      <td>97</td>\n",
       "      <td>84</td>\n",
       "    </tr>\n",
       "    <tr>\n",
       "      <th>...</th>\n",
       "      <td>...</td>\n",
       "      <td>...</td>\n",
       "      <td>...</td>\n",
       "      <td>...</td>\n",
       "      <td>...</td>\n",
       "      <td>...</td>\n",
       "      <td>...</td>\n",
       "      <td>...</td>\n",
       "      <td>...</td>\n",
       "      <td>...</td>\n",
       "      <td>...</td>\n",
       "    </tr>\n",
       "    <tr>\n",
       "      <th>37535</th>\n",
       "      <td>14</td>\n",
       "      <td>Thomas High School</td>\n",
       "      <td>Charter</td>\n",
       "      <td>1635</td>\n",
       "      <td>1043130</td>\n",
       "      <td>37535</td>\n",
       "      <td>Norma Mata</td>\n",
       "      <td>F</td>\n",
       "      <td>10th</td>\n",
       "      <td>76</td>\n",
       "      <td>76</td>\n",
       "    </tr>\n",
       "    <tr>\n",
       "      <th>37536</th>\n",
       "      <td>14</td>\n",
       "      <td>Thomas High School</td>\n",
       "      <td>Charter</td>\n",
       "      <td>1635</td>\n",
       "      <td>1043130</td>\n",
       "      <td>37536</td>\n",
       "      <td>Cody Miller</td>\n",
       "      <td>M</td>\n",
       "      <td>11th</td>\n",
       "      <td>84</td>\n",
       "      <td>82</td>\n",
       "    </tr>\n",
       "    <tr>\n",
       "      <th>37537</th>\n",
       "      <td>14</td>\n",
       "      <td>Thomas High School</td>\n",
       "      <td>Charter</td>\n",
       "      <td>1635</td>\n",
       "      <td>1043130</td>\n",
       "      <td>37537</td>\n",
       "      <td>Erik Snyder</td>\n",
       "      <td>M</td>\n",
       "      <td>9th</td>\n",
       "      <td>80</td>\n",
       "      <td>90</td>\n",
       "    </tr>\n",
       "    <tr>\n",
       "      <th>37538</th>\n",
       "      <td>14</td>\n",
       "      <td>Thomas High School</td>\n",
       "      <td>Charter</td>\n",
       "      <td>1635</td>\n",
       "      <td>1043130</td>\n",
       "      <td>37538</td>\n",
       "      <td>Tanya Martinez</td>\n",
       "      <td>F</td>\n",
       "      <td>9th</td>\n",
       "      <td>71</td>\n",
       "      <td>69</td>\n",
       "    </tr>\n",
       "    <tr>\n",
       "      <th>37539</th>\n",
       "      <td>14</td>\n",
       "      <td>Thomas High School</td>\n",
       "      <td>Charter</td>\n",
       "      <td>1635</td>\n",
       "      <td>1043130</td>\n",
       "      <td>37539</td>\n",
       "      <td>Noah Erickson</td>\n",
       "      <td>M</td>\n",
       "      <td>9th</td>\n",
       "      <td>86</td>\n",
       "      <td>76</td>\n",
       "    </tr>\n",
       "  </tbody>\n",
       "</table>\n",
       "<p>75 rows × 11 columns</p>\n",
       "</div>"
      ],
      "text/plain": [
       "       School ID         school_name      type  size   budget  Student ID  \\\n",
       "0              0   Huang High School  District  2917  1910635           0   \n",
       "1              0   Huang High School  District  2917  1910635           1   \n",
       "2              0   Huang High School  District  2917  1910635           2   \n",
       "3              0   Huang High School  District  2917  1910635           3   \n",
       "4              0   Huang High School  District  2917  1910635           4   \n",
       "...          ...                 ...       ...   ...      ...         ...   \n",
       "37535         14  Thomas High School   Charter  1635  1043130       37535   \n",
       "37536         14  Thomas High School   Charter  1635  1043130       37536   \n",
       "37537         14  Thomas High School   Charter  1635  1043130       37537   \n",
       "37538         14  Thomas High School   Charter  1635  1043130       37538   \n",
       "37539         14  Thomas High School   Charter  1635  1043130       37539   \n",
       "\n",
       "            student_name gender grade  reading_score  math_score  \n",
       "0           Paul Bradley      M   9th             66          79  \n",
       "1           Victor Smith      M  12th             94          61  \n",
       "2        Kevin Rodriguez      M  12th             90          60  \n",
       "3      Dr. Richard Scott      M  12th             67          58  \n",
       "4             Bonnie Ray      F   9th             97          84  \n",
       "...                  ...    ...   ...            ...         ...  \n",
       "37535         Norma Mata      F  10th             76          76  \n",
       "37536        Cody Miller      M  11th             84          82  \n",
       "37537        Erik Snyder      M   9th             80          90  \n",
       "37538     Tanya Martinez      F   9th             71          69  \n",
       "37539      Noah Erickson      M   9th             86          76  \n",
       "\n",
       "[75 rows x 11 columns]"
      ]
     },
     "execution_count": 32,
     "metadata": {},
     "output_type": "execute_result"
    }
   ],
   "source": [
    "# group schools by name\n",
    "group_by_name = school_data_complete.groupby([\"school_name\"])\n",
    "group_by_name.head()\n"
   ]
  },
  {
   "cell_type": "code",
   "execution_count": null,
   "id": "37f1837a",
   "metadata": {},
   "outputs": [],
   "source": [
    "# Use the code provided to select all of the school types\n",
    "school_types = group_by_name[\"type\"].first()\n",
    "school_types"
   ]
  },
  {
   "cell_type": "code",
   "execution_count": null,
   "id": "1cfaca75",
   "metadata": {},
   "outputs": [],
   "source": [
    "# total students per school\n",
    "per_school_counts = group_by_name[\"Student ID\"].count()\n",
    "per_school_counts.head(15)\n",
    "\n"
   ]
  },
  {
   "cell_type": "code",
   "execution_count": null,
   "id": "fcb62044",
   "metadata": {},
   "outputs": [],
   "source": [
    "# Calculate the total school budget and per capita spending per school\n",
    "per_school_budget = group_by_name[\"budget\"].mean()\n",
    "per_capita_spend = per_school_budget/per_school_counts\n",
    "\n",
    "print(per_school_budget)\n",
    "print(per_capita_spend)\n"
   ]
  },
  {
   "cell_type": "code",
   "execution_count": null,
   "id": "3eb7a6f8",
   "metadata": {},
   "outputs": [],
   "source": [
    "# Calculate the average math scores per school\n",
    "per_school_math = group_by_name[\"math_score\"].mean() \n",
    "print(per_school_math)\n"
   ]
  },
  {
   "cell_type": "code",
   "execution_count": null,
   "id": "730080bc",
   "metadata": {},
   "outputs": [],
   "source": [
    "# average reading scores per school\n",
    "per_school_reading = group_by_name[\"reading_score\"].mean()\n",
    "print(per_school_reading)"
   ]
  },
  {
   "cell_type": "code",
   "execution_count": null,
   "id": "a4996434",
   "metadata": {},
   "outputs": [],
   "source": [
    "# Calculate the number of students per school with math scores of 70 or higher\n",
    "\n",
    "students_passing_math = school_data_complete[school_data_complete[\"math_score\"] >= 70]\n",
    "school_students_passing_math = students_passing_math.groupby(\"school_name\")[\"Student ID\"].count()\n",
    "percent_school_students_passing_math = school_students_passing_math / per_school_counts *100\n",
    "\n",
    "print(percent_school_students_passing_math)"
   ]
  },
  {
   "cell_type": "code",
   "execution_count": null,
   "id": "2de50f9c",
   "metadata": {},
   "outputs": [],
   "source": [
    "# Calculate the number of students per school with reading scores of 70 or higher\n",
    "students_passing_reading = school_data_complete[school_data_complete[\"reading_score\"] >= 70]\n",
    "school_students_passing_reading = students_passing_reading.groupby(\"school_name\")[\"Student ID\"].count()\n",
    "percent_school_students_passing_reading = school_students_passing_reading / per_school_counts *100\n",
    "\n",
    "print(percent_school_students_passing_reading)"
   ]
  },
  {
   "cell_type": "code",
   "execution_count": null,
   "id": "44b32837",
   "metadata": {},
   "outputs": [],
   "source": [
    "# Use the provided code to calculate the number of students per school that passed both math and reading with scores of 70 or higher\n",
    "students_passing_math_and_reading = school_data_complete[\n",
    "    (school_data_complete[\"reading_score\"] >= 70) & (school_data_complete[\"math_score\"] >= 70)\n",
    "]\n",
    "school_students_passing_math_and_reading = students_passing_math_and_reading.groupby([\"school_name\"]).size()\n",
    "school_students_passing_math_and_reading"
   ]
  },
  {
   "cell_type": "code",
   "execution_count": 18,
   "id": "45b62ecc",
   "metadata": {},
   "outputs": [
    {
     "ename": "NameError",
     "evalue": "name 'school_students_passing_math' is not defined",
     "output_type": "error",
     "traceback": [
      "\u001b[0;31m---------------------------------------------------------------------------\u001b[0m",
      "\u001b[0;31mNameError\u001b[0m                                 Traceback (most recent call last)",
      "Cell \u001b[0;32mIn[18], line 2\u001b[0m\n\u001b[1;32m      1\u001b[0m \u001b[38;5;66;03m# Use the provided code to calculate the passing rates\u001b[39;00m\n\u001b[0;32m----> 2\u001b[0m per_school_passing_math \u001b[38;5;241m=\u001b[39m \u001b[43mschool_students_passing_math\u001b[49m \u001b[38;5;241m/\u001b[39m per_school_counts \u001b[38;5;241m*\u001b[39m \u001b[38;5;241m100\u001b[39m\n\u001b[1;32m      3\u001b[0m per_school_passing_reading \u001b[38;5;241m=\u001b[39m school_students_passing_reading \u001b[38;5;241m/\u001b[39m per_school_counts \u001b[38;5;241m*\u001b[39m \u001b[38;5;241m100\u001b[39m\n\u001b[1;32m      4\u001b[0m overall_passing_rate \u001b[38;5;241m=\u001b[39m school_students_passing_math_and_reading \u001b[38;5;241m/\u001b[39m per_school_counts \u001b[38;5;241m*\u001b[39m \u001b[38;5;241m100\u001b[39m\n",
      "\u001b[0;31mNameError\u001b[0m: name 'school_students_passing_math' is not defined"
     ]
    }
   ],
   "source": [
    "# Use the provided code to calculate the passing rates\n",
    "per_school_passing_math = school_students_passing_math / per_school_counts * 100\n",
    "per_school_passing_reading = school_students_passing_reading / per_school_counts * 100\n",
    "overall_passing_rate = school_students_passing_math_and_reading / per_school_counts * 100\n"
   ]
  },
  {
   "cell_type": "code",
   "execution_count": null,
   "id": "26327d27",
   "metadata": {
    "scrolled": true
   },
   "outputs": [],
   "source": [
    "# create dataframe called per_school_summary\n",
    "per_school_summary = pd.DataFrame({\"School Type\":school_types, \"Total Students\": per_school_counts,\n",
    "                               \"Total School Budget\":per_school_budget, \"Per Student Budget\":per_capita_spend,\n",
    "                               \"Average Math Score\":per_school_math,\"Average Reading Score\": per_school_reading,\n",
    "                               \"Percent Passing Math\":percent_school_students_passing_math,\n",
    "                               \"Percent Passing Reading\": percent_school_students_passing_reading, \n",
    "                               \"Percent Overall Passing\":overall_passing_rate})\n",
    "school_spending_df = per_school_summary\n",
    "per_school_summary[\"Total School Budget\"] = per_school_summary[\"Total School Budget\"].map(\"${:,.0f}\".format)\n",
    "\n",
    "per_school_summary"
   ]
  },
  {
   "cell_type": "code",
   "execution_count": null,
   "id": "26244a0a",
   "metadata": {},
   "outputs": [],
   "source": [
    "# Sort the schools by % Overall Passing in descending order and display the top 5 rows.\n",
    "\n",
    "top_schools = per_school_summary.sort_values(\"Percent Overall Passing\", ascending=False)\n",
    "\n",
    "\n",
    "\n",
    "top_schools.head()"
   ]
  },
  {
   "cell_type": "code",
   "execution_count": null,
   "id": "af786a70",
   "metadata": {},
   "outputs": [],
   "source": [
    "# Sort the schools by `% Overall Passing` in ascending order and display the top 5 rows.\n",
    "bottom_schools = per_school_summary.sort_values(\"Percent Overall Passing\", ascending=True)\n",
    "                                               \n",
    "\n",
    "\n",
    "bottom_schools.head(5)"
   ]
  },
  {
   "cell_type": "code",
   "execution_count": null,
   "id": "e74270c1",
   "metadata": {},
   "outputs": [],
   "source": [
    "# Perform the necessary calculations to create a DataFrame that lists the average math score for students\n",
    "# of each grade level (9th, 10th, 11th, 12th) at each school.\n",
    "\n",
    "# Use the code provided to separate the data by grade\n",
    "ninth_graders = school_data_complete[(school_data_complete[\"grade\"] == \"9th\")]\n",
    "tenth_graders = school_data_complete[(school_data_complete[\"grade\"] == \"10th\")]\n",
    "eleventh_graders = school_data_complete[(school_data_complete[\"grade\"] == \"11th\")]\n",
    "twelfth_graders = school_data_complete[(school_data_complete[\"grade\"] == \"12th\")]\n",
    "\n",
    "\n",
    "ninth_graders_scores = ninth_graders.groupby([\"school_name\"])[\"math_score\"].mean()\n",
    "tenth_graders_scores = tenth_graders.groupby([\"school_name\"])[\"math_score\"].mean()\n",
    "eleventh_graders_scores = eleventh_graders.groupby([\"school_name\"])[\"math_score\"].mean()\n",
    "twelfth_graders_scores = twelfth_graders.groupby([\"school_name\"])[\"math_score\"].mean()\n",
    "\n",
    "\n",
    "\n",
    "# Combine each of the scores above into single DataFrame called `math_scores_by_grade`\n",
    "math_scores_by_grade = pd.DataFrame({\"9th\": ninth_graders_scores,\n",
    "                                \"10th\":tenth_graders_scores,\n",
    "                                \"11th\":eleventh_graders_scores,\n",
    "                                \"12th\":twelfth_graders_scores})\n",
    "\n",
    "# Minor data wrangling\n",
    "math_scores_by_grade.index.name = None\n",
    "\n",
    "# Display the DataFrame\n",
    "math_scores_by_grade\n"
   ]
  },
  {
   "cell_type": "code",
   "execution_count": null,
   "id": "3726931e",
   "metadata": {},
   "outputs": [],
   "source": [
    "# Use the code provided to separate the data by grade\n",
    "ninth_graders = school_data_complete[(school_data_complete[\"grade\"] == \"9th\")]\n",
    "tenth_graders = school_data_complete[(school_data_complete[\"grade\"] == \"10th\")]\n",
    "eleventh_graders = school_data_complete[(school_data_complete[\"grade\"] == \"11th\")]\n",
    "twelfth_graders = school_data_complete[(school_data_complete[\"grade\"] == \"12th\")]\n",
    "\n",
    "# Group by `school_name` and take the mean of the the `reading_score` column for each.\n",
    "ninth_grade_reading_scores = ninth_graders.groupby([\"school_name\"])[\"reading_score\"].mean()\n",
    "tenth_grader_reading_scores = tenth_graders.groupby([\"school_name\"])[\"reading_score\"].mean()\n",
    "eleventh_grader_reading_scores = eleventh_graders.groupby([\"school_name\"])[\"reading_score\"].mean()\n",
    "twelfth_grader_reading_scores = twelfth_graders.groupby([\"school_name\"])[\"reading_score\"].mean()\n",
    "\n",
    "# Combine each of the scores above into single DataFrame called `reading_scores_by_grade`\n",
    "reading_scores_by_grade = pd.DataFrame({\"9th\": ninth_grade_reading_scores,\n",
    "                                \"10th\":tenth_grader_reading_scores,\n",
    "                                \"11th\":eleventh_grader_reading_scores,\n",
    "                                \"12th\":twelfth_grader_reading_scores})\n",
    "\n",
    "# Minor data wrangling\n",
    "reading_scores_by_grade = reading_scores_by_grade[[\"9th\", \"10th\", \"11th\", \"12th\"]]\n",
    "reading_scores_by_grade.index.name = None\n",
    "\n",
    "# Display the DataFrame\n",
    "reading_scores_by_grade"
   ]
  },
  {
   "cell_type": "code",
   "execution_count": null,
   "id": "8faf5632",
   "metadata": {},
   "outputs": [],
   "source": [
    "# Create a table that breaks down school performance based on average spending ranges (per student).\n",
    "#Use the code provided below to create four bins with reasonable cutoff values to group school spending.\n",
    "\n",
    "# Establish the bins \n",
    "bins = [0, 585, 630, 645, 680]\n",
    "labels = [\"<$585\", \"$585-630\", \"$630-645\", \"$645-680\"]\n",
    "\n",
    "pd.cut(per_school_summary[\"Per Student Budget\"], bins, labels = labels)\n"
   ]
  },
  {
   "cell_type": "code",
   "execution_count": null,
   "id": "8e4a06b8",
   "metadata": {},
   "outputs": [],
   "source": [
    "# Use `pd.cut` to categorize spending based on the bins.\n",
    "school_spending_df[\"Spending Ranges (Per Student)\"] = pd.cut(per_school_summary[\"Per Student Budget\"], bins, labels = labels)\n",
    "school_spending_df\n"
   ]
  },
  {
   "cell_type": "code",
   "execution_count": null,
   "id": "5898a7b3",
   "metadata": {},
   "outputs": [],
   "source": [
    "\n",
    "# school_spending_df[\"Spending Ranges (Per Student)\"] = pd.cut(school_summary[\"Per Student Budget\"], bins, labels)\n",
    "# school_spending_df\n",
    "school_spending_df = pd.DataFrame({\"School Type\":school_types, \"Total Students\": per_school_counts,\n",
    "                               \"Total School Budget\":per_school_budget, \"Per Student Budget\":per_capita_spend,\n",
    "                               \"Average Math Score\":per_school_math,\"Average Reading Score\": per_school_reading,\n",
    "                               \"Percent Passing Math\":percent_school_students_passing_math,\n",
    "                               \"Percent Passing Reading\": percent_school_students_passing_reading, \n",
    "                               \"Percent Overall Passing\":overall_passing_rate, \n",
    "                         \"Spending Ranges (Per Student)\":pd.cut(per_school_summary[\"Per Student Budget\"], bins, labels = labels)\n",
    "                                  }) \n",
    "school_spending_df"
   ]
  },
  {
   "cell_type": "code",
   "execution_count": null,
   "id": "9ec5a876",
   "metadata": {},
   "outputs": [],
   "source": [
    "# Use the following code to then calculate mean scores per spending range.\n",
    "\n",
    "spending_math_scores = school_spending_df.groupby([\"Spending Ranges (Per Student)\"])[\"Average Math Score\"].mean()\n",
    "spending_reading_scores = school_spending_df.groupby([\"Spending Ranges (Per Student)\"])[\"Average Reading Score\"].mean()\n",
    "spending_passing_math = school_spending_df.groupby([\"Spending Ranges (Per Student)\"])[\"Percent Passing Math\"].mean()\n",
    "spending_passing_reading = school_spending_df.groupby([\"Spending Ranges (Per Student)\"])[\"Percent Passing Reading\"].mean()\n",
    "overall_passing_spending = school_spending_df.groupby([\"Spending Ranges (Per Student)\"])[\"Percent Overall Passing\"].mean()\n",
    "\n",
    "spending_summary = pd.DataFrame({\"Average Math Score\": spending_math_scores, \"Average Reading Score\": spending_reading_scores, \n",
    "                                \"Percent Passing Math\": spending_passing_math, \"Percent Passing Reading\": spending_passing_reading,\n",
    "                                \"Percent Overall Passing\": overall_passing_spending})\n",
    "spending_summary"
   ]
  },
  {
   "cell_type": "code",
   "execution_count": null,
   "id": "43da1719",
   "metadata": {},
   "outputs": [],
   "source": [
    "## Scores by School Size\n",
    "#Use the following code to bin the per_school_summary.\n",
    "# Establish the bins.\n",
    "size_bins = [0, 1000, 2000, 5000]\n",
    "labels = [\"Small (<1000)\", \"Medium (1000-2000)\", \"Large (2000-5000)\"]\n",
    "\n",
    "pd.cut(per_school_summary[\"Total Students\"], size_bins, labels = labels)\n"
   ]
  },
  {
   "cell_type": "code",
   "execution_count": null,
   "id": "fb135419",
   "metadata": {},
   "outputs": [],
   "source": [
    "# Categorize the spending based on the bins\n",
    "# Use `pd.cut` on the \"Total Students\" column of the `per_school_summary` DataFrame.\n",
    "\n",
    "\n",
    "per_school_summary[\"School Size\"] = pd.cut(per_school_summary[\"Total Students\"], size_bins, labels = labels)\n",
    "per_school_summary\n"
   ]
  },
  {
   "cell_type": "code",
   "execution_count": null,
   "id": "1ee7968c",
   "metadata": {},
   "outputs": [],
   "source": [
    "# Calculate averages for the desired columns. \n",
    "size_math_scores = per_school_summary.groupby([\"School Size\"])[\"Average Math Score\"].mean()\n",
    "size_reading_scores = per_school_summary.groupby([\"School Size\"])[\"Average Reading Score\"].mean()\n",
    "size_passing_math = per_school_summary.groupby([\"School Size\"])[\"Percent Passing Math\"].mean()\n",
    "size_passing_reading = per_school_summary.groupby([\"School Size\"])[\"Percent Passing Reading\"].mean()\n",
    "size_overall_passing = per_school_summary.groupby([\"School Size\"])[\"Percent Overall Passing\"].mean()\n",
    "\n",
    "size_summary = pd.DataFrame({\"Average Math Score\": size_math_scores, \"Average Reading Score\": size_reading_scores, \n",
    "                                \"Percent Passing Math\": size_passing_math, \"Percent Passing Reading\": size_passing_reading,\n",
    "                                 \"Percent Overall Passing\": size_overall_passing})\n",
    "size_summary"
   ]
  },
  {
   "cell_type": "code",
   "execution_count": null,
   "id": "cf17e36e",
   "metadata": {},
   "outputs": [],
   "source": [
    "# Group the per_school_summary DataFrame by \"School Type\" and average the results.\n",
    "\n",
    "# # Calculate the values for the data table\n",
    "# type_summary_df = grouped_type_df.mean()\n",
    "average_math_score_by_type = per_school_summary.groupby([\"School Type\"])[\"Average Math Score\"].mean()\n",
    "average_reading_score_by_type = per_school_summary.groupby([\"School Type\"])[\"Average Reading Score\"].mean()\n",
    "average_percent_passing_math_by_type = per_school_summary.groupby([\"School Type\"])[\"Percent Passing Math\"].mean()\n",
    "average_percent_passing_reading_by_type = per_school_summary.groupby([\"School Type\"])[\"Percent Passing Reading\"].mean()\n",
    "average_percent_overall_passing_by_type = per_school_summary.groupby([\"School Type\"])[\"Percent Overall Passing\"].mean()\n",
    "\n",
    "type_summary = pd.DataFrame({\"Average Math Score\": average_math_score_by_type, \"Average Reading Score\": average_reading_score_by_type, \n",
    "                                \"Percent Passing Math\": average_percent_passing_math_by_type, \"Percent Passing Reading\": average_percent_passing_reading_by_type,\n",
    "                                 \"Percent Overall Passing\": average_percent_overall_passing_by_type})\n",
    "type_summary\n"
   ]
  },
  {
   "cell_type": "code",
   "execution_count": null,
   "id": "a002d584",
   "metadata": {},
   "outputs": [],
   "source": []
  },
  {
   "cell_type": "code",
   "execution_count": null,
   "id": "b2cce7ae",
   "metadata": {},
   "outputs": [],
   "source": []
  }
 ],
 "metadata": {
  "kernelspec": {
   "display_name": "Python 3 (ipykernel)",
   "language": "python",
   "name": "python3"
  },
  "language_info": {
   "codemirror_mode": {
    "name": "ipython",
    "version": 3
   },
   "file_extension": ".py",
   "mimetype": "text/x-python",
   "name": "python",
   "nbconvert_exporter": "python",
   "pygments_lexer": "ipython3",
   "version": "3.10.13"
  }
 },
 "nbformat": 4,
 "nbformat_minor": 5
}
